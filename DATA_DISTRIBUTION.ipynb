{
 "cells": [
  {
   "cell_type": "code",
   "execution_count": 1,
   "id": "c33d140b",
   "metadata": {},
   "outputs": [
    {
     "name": "stderr",
     "output_type": "stream",
     "text": [
      "Copying training images for Normal: 100%|██████████| 1200/1200 [00:09<00:00, 121.66it/s]\n",
      "Copying testing images for Normal: 100%|██████████| 300/300 [00:02<00:00, 135.73it/s]\n",
      "Copying training images for Tuberculosis: 100%|██████████| 1200/1200 [00:12<00:00, 99.66it/s] \n",
      "Copying testing images for Tuberculosis: 100%|██████████| 300/300 [00:02<00:00, 114.61it/s]\n",
      "Preprocessing train images for Normal: 100%|██████████| 1200/1200 [00:32<00:00, 36.57it/s]\n",
      "Preprocessing train images for Tuberculosis: 100%|██████████| 1200/1200 [00:28<00:00, 41.79it/s]\n",
      "Preprocessing test images for Normal: 100%|██████████| 300/300 [00:07<00:00, 38.59it/s]\n",
      "Preprocessing test images for Tuberculosis: 100%|██████████| 300/300 [00:07<00:00, 40.68it/s]"
     ]
    },
    {
     "name": "stdout",
     "output_type": "stream",
     "text": [
      "Dataset splitting and preprocessing completed successfully!\n"
     ]
    },
    {
     "name": "stderr",
     "output_type": "stream",
     "text": [
      "\n"
     ]
    }
   ],
   "source": [
    "import os\n",
    "import random\n",
    "import shutil\n",
    "from tqdm import tqdm\n",
    "from PIL import Image\n",
    "import numpy as np\n",
    "\n",
    "# Set the paths for the dataset directory and the directories for training and testing sets\n",
    "dataset_dir = \"C:\\\\Users\\\\Win11\\\\OneDrive\\\\Desktop\\\\EEX_DATA\"\n",
    "train_dir = \"C:\\\\Users\\\\Win11\\\\OneDrive\\\\Desktop\\\\MOD_TRAIN\"\n",
    "test_dir = \"C:\\\\Users\\\\Win11\\\\OneDrive\\\\Desktop\\\\MOD_TEST\"\n",
    "\n",
    "# Create directories for training and testing sets if they don't exist\n",
    "os.makedirs(train_dir, exist_ok=True)\n",
    "os.makedirs(test_dir, exist_ok=True)\n",
    "\n",
    "# Set the split ratio (e.g., 0.8 for 80% training and 20% testing)\n",
    "split_ratio = 0.8\n",
    "\n",
    "# Function to preprocess images (e.g., resize, normalize, data augmentation)\n",
    "def preprocess_image(image_path, target_size=(224, 224)):\n",
    "    image = Image.open(image_path)\n",
    "    image = image.resize(target_size)  # Resize the image\n",
    "    image = np.array(image) / 255.0    # Normalize pixel values to [0, 1]\n",
    "    # Additional preprocessing steps (e.g., data augmentation) can be added here\n",
    "    return image\n",
    "\n",
    "# Iterate through the dataset directory and copy images to the training and testing directories\n",
    "for class_name in os.listdir(dataset_dir):\n",
    "    class_dir = os.path.join(dataset_dir, class_name)\n",
    "    train_class_dir = os.path.join(train_dir, class_name)\n",
    "    test_class_dir = os.path.join(test_dir, class_name)\n",
    "    os.makedirs(train_class_dir, exist_ok=True)\n",
    "    os.makedirs(test_class_dir, exist_ok=True)\n",
    "    \n",
    "    images = os.listdir(class_dir)\n",
    "    num_train = int(len(images) * split_ratio)\n",
    "    train_images = random.sample(images, num_train)\n",
    "    test_images = [img for img in images if img not in train_images]\n",
    "    \n",
    "    # Copy images to the training directory\n",
    "    for img_name in tqdm(train_images, desc=f'Copying training images for {class_name}'):\n",
    "        img_path = os.path.join(class_dir, img_name)\n",
    "        target_path = os.path.join(train_class_dir, img_name)\n",
    "        shutil.copyfile(img_path, target_path)\n",
    "    \n",
    "    # Copy images to the testing directory\n",
    "    for img_name in tqdm(test_images, desc=f'Copying testing images for {class_name}'):\n",
    "        img_path = os.path.join(class_dir, img_name)\n",
    "        target_path = os.path.join(test_class_dir, img_name)\n",
    "        shutil.copyfile(img_path, target_path)\n",
    "\n",
    "# Preprocess images in the training and testing directories\n",
    "for phase in ['train', 'test']:\n",
    "    phase_dir = os.path.join(train_dir if phase == 'train' else test_dir)\n",
    "    for class_name in os.listdir(phase_dir):\n",
    "        class_dir = os.path.join(phase_dir, class_name)\n",
    "        for img_name in tqdm(os.listdir(class_dir), desc=f'Preprocessing {phase} images for {class_name}'):\n",
    "            img_path = os.path.join(class_dir, img_name)\n",
    "            preprocessed_img = preprocess_image(img_path)\n",
    "            # Optionally, save the preprocessed image or replace the original image\n",
    "            \n",
    "print(\"Dataset splitting and preprocessing completed successfully!\")"
   ]
  },
  {
   "cell_type": "code",
   "execution_count": null,
   "id": "a69ec23e",
   "metadata": {},
   "outputs": [],
   "source": []
  }
 ],
 "metadata": {
  "kernelspec": {
   "display_name": "Python 3 (ipykernel)",
   "language": "python",
   "name": "python3"
  },
  "language_info": {
   "codemirror_mode": {
    "name": "ipython",
    "version": 3
   },
   "file_extension": ".py",
   "mimetype": "text/x-python",
   "name": "python",
   "nbconvert_exporter": "python",
   "pygments_lexer": "ipython3",
   "version": "3.11.4"
  }
 },
 "nbformat": 4,
 "nbformat_minor": 5
}
